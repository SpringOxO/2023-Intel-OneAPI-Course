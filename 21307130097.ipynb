{
 "cells": [
  {
   "cell_type": "markdown",
   "id": "36aa34ad-e69e-4193-a610-579c59096a05",
   "metadata": {},
   "source": [
    "# 基于Intel® Distribution of Modin 和 Intel® Extension for Scikit-learn 及 Intel® DAAL加速的信用卡交易欺诈检测"
   ]
  },
  {
   "cell_type": "markdown",
   "id": "28715be4-477f-4366-8b5d-1c5a58134a6c",
   "metadata": {},
   "source": [
    "整体介绍：使用modin和sklearnex加速数据的读取、处理和模型的训练，采用XGBoost Optimized for Intel® Architecture 作为分类模型，最后使用daal4py加快预测速度"
   ]
  },
  {
   "cell_type": "code",
   "execution_count": 1,
   "id": "89794a00-0915-47a0-8294-59d178578b99",
   "metadata": {},
   "outputs": [],
   "source": [
    "import os\n",
    "import numpy as np\n",
    "import warnings\n",
    "\n",
    "warnings.filterwarnings(\"ignore\")"
   ]
  },
  {
   "cell_type": "markdown",
   "id": "5e23ddae-6c1c-4498-b48e-bae0678812ef",
   "metadata": {},
   "source": [
    "导入modin和sklearnex，设置 HDK 作为后端计算引擎，使用patch_sklearn()进行加速"
   ]
  },
  {
   "cell_type": "code",
   "execution_count": 2,
   "id": "c7c2b08b-d92f-47fc-8a67-03e52a5bc101",
   "metadata": {},
   "outputs": [
    {
     "name": "stderr",
     "output_type": "stream",
     "text": [
      "Intel(R) Extension for Scikit-learn* enabled (https://github.com/intel/scikit-learn-intelex)\n"
     ]
    }
   ],
   "source": [
    "import modin.pandas as pd\n",
    "\n",
    "import modin.config as cfg\n",
    "cfg.StorageFormat.put('hdk')\n",
    "\n",
    "from sklearnex import patch_sklearn\n",
    "patch_sklearn()\n",
    "\n",
    "from sklearn import config_context\n",
    "from sklearn.metrics import mean_squared_error, r2_score, accuracy_score, f1_score, average_precision_score\n",
    "from sklearn.model_selection import train_test_split\n",
    "import sklearn.linear_model as lm"
   ]
  },
  {
   "cell_type": "markdown",
   "id": "597b1003-690f-4df9-b8eb-499f648eaed7",
   "metadata": {},
   "source": [
    "读入数据文件（数据文件放在同目录下）"
   ]
  },
  {
   "cell_type": "code",
   "execution_count": 3,
   "id": "5bff378f-e08a-4a54-afd0-8875287f509f",
   "metadata": {},
   "outputs": [
    {
     "name": "stdout",
     "output_type": "stream",
     "text": [
      "read_csv time:  3.59470272064209\n"
     ]
    }
   ],
   "source": [
    "import time\n",
    "dt_start = time.time()\n",
    "\n",
    "df = pd.read_csv('creditcard.csv')\n",
    "print(\"read_csv time: \", time.time() - dt_start)"
   ]
  },
  {
   "cell_type": "markdown",
   "id": "ef500fe7-6d6f-47ab-8c39-363e5e531e55",
   "metadata": {},
   "source": [
    "划分数据集，预处理不平衡数据（SMOTE）"
   ]
  },
  {
   "cell_type": "code",
   "execution_count": 4,
   "id": "474a87fc-54dc-4c53-813f-42074cbb8d94",
   "metadata": {},
   "outputs": [
    {
     "name": "stdout",
     "output_type": "stream",
     "text": [
      "['Time', 'V1', 'V2', 'V3', 'V4', 'V5', 'V6', 'V7', 'V8', 'V9', 'V10', 'V11', 'V12', 'V13', 'V14', 'V15', 'V16', 'V17', 'V18', 'V19', 'V20', 'V21', 'V22', 'V23', 'V24', 'V25', 'V26', 'V27', 'V28', 'Amount']\n",
      "SMOTE time:  1.1676709651947021\n"
     ]
    }
   ],
   "source": [
    "dt_start = time.time()\n",
    "\n",
    "X = df.drop(columns=[\"Class\"], axis = 1)\n",
    "y = df[\"Class\"]\n",
    "\n",
    "X_train, X_test, y_train, y_test = train_test_split(X, y, test_size = 0.30, random_state = 21)\n",
    "\n",
    "from imblearn.over_sampling import SMOTE\n",
    "sm = SMOTE(random_state=42)#\n",
    "X_res, y_res = sm.fit_resample(X_train, y_train)\n",
    "\n",
    "X_train = X_res\n",
    "y_train = y_res\n",
    "\n",
    "print(X_train.columns.tolist())\n",
    "\n",
    "print(\"SMOTE time: \", time.time() - dt_start)"
   ]
  },
  {
   "cell_type": "markdown",
   "id": "e90fd05f-cf3f-476a-8e53-237390505aa3",
   "metadata": {},
   "source": [
    "训练XGBoost"
   ]
  },
  {
   "cell_type": "code",
   "execution_count": 5,
   "id": "4109c3eb-dc56-4083-9669-dd5afe149142",
   "metadata": {},
   "outputs": [
    {
     "name": "stdout",
     "output_type": "stream",
     "text": [
      "Training time:  36.793660402297974\n"
     ]
    }
   ],
   "source": [
    "dt_start = time.time()\n",
    "from xgboost import XGBClassifier\n",
    "import daal4py as d4p\n",
    " \n",
    "xgb = XGBClassifier(eval_metric='mlogloss')\n",
    "xgb.fit(X_train, y_train)\n",
    "print(\"Training time: \", time.time() - dt_start)"
   ]
  },
  {
   "cell_type": "markdown",
   "id": "30ed9170-ae36-4145-be8f-2d69e5a675b2",
   "metadata": {},
   "source": [
    "直接用xgboost预测，预测时间较长。根据题目要求，使用F1分数和AUPRC作为评价依据。"
   ]
  },
  {
   "cell_type": "code",
   "execution_count": 6,
   "id": "ead7c4d0-7992-463b-b206-2f756e712b7d",
   "metadata": {},
   "outputs": [
    {
     "name": "stdout",
     "output_type": "stream",
     "text": [
      "Prediction time:  0.1606733798980713\n",
      "f1 score:  0.825938566552901\n",
      "AUPRC:  0.6827009327829815\n"
     ]
    }
   ],
   "source": [
    "#不使用daal加速预测，预测时间较长\n",
    "\n",
    "dt_start = time.time()\n",
    "\n",
    "xgb_prediction = xgb.predict(X_test)\n",
    "\n",
    "print(\"Prediction time: \", time.time() - dt_start)\n",
    "\n",
    "print(\"f1 score: \", f1_score(y_test, xgb_prediction))\n",
    "\n",
    "print(\"AUPRC: \", average_precision_score(y_test, xgb_prediction))"
   ]
  },
  {
   "cell_type": "markdown",
   "id": "a2e47913-2415-4176-ab17-ab3b07a32157",
   "metadata": {},
   "source": [
    "使用daal4py加速，预测时间大大缩短，精度没有损失"
   ]
  },
  {
   "cell_type": "code",
   "execution_count": 7,
   "id": "9b930efa-5dea-4cba-bb28-201bdf46f50d",
   "metadata": {},
   "outputs": [
    {
     "name": "stdout",
     "output_type": "stream",
     "text": [
      "Prediction time:  0.026927709579467773\n",
      "f1 score:  0.825938566552901\n",
      "AUPRC:  0.6827009327829815\n"
     ]
    }
   ],
   "source": [
    "#使用daal加速，预测时间显著缩短\n",
    "\n",
    "daal_model = d4p.get_gbt_model_from_xgboost(xgb.get_booster())\n",
    "\n",
    "dt_start = time.time()\n",
    "\n",
    "daal_prediction = d4p.gbt_classification_prediction(nClasses = 2, resultsToEvaluate = \"computeClassLabels|computeClassProbabilities\").compute(X_test, daal_model)\n",
    "\n",
    "print(\"Prediction time: \", time.time() - dt_start)\n",
    "\n",
    "print(\"f1 score: \", f1_score(y_test, daal_prediction.prediction))\n",
    "\n",
    "print(\"AUPRC: \", average_precision_score(y_test, daal_prediction.prediction))"
   ]
  },
  {
   "cell_type": "markdown",
   "id": "7f5b8e0e-ba13-4ad3-a00c-d9319e86c0e9",
   "metadata": {},
   "source": [
    "使用网格搜索+交叉验证的随机森林"
   ]
  },
  {
   "cell_type": "code",
   "execution_count": 8,
   "id": "a9891c05-79e0-4d66-8da3-407687d658c6",
   "metadata": {},
   "outputs": [
    {
     "name": "stdout",
     "output_type": "stream",
     "text": [
      "Best params for average_precision_score\n",
      "{'max_depth': 15, 'max_features': 8, 'min_samples_split': 2, 'n_estimators': 11}\n",
      "\n",
      "Confusion matrix of Random Forest optimized for average_precision_score on the test data:\n",
      "     pred_neg  pred_pos\n",
      "neg     85267        27\n",
      "pos        25       124\n",
      "f1 score:  0.8266666666666668\n",
      "AUPRC:  0.6837007441960327\n",
      "Training time:  81.75254321098328\n"
     ]
    }
   ],
   "source": [
    "from sklearn.metrics import make_scorer, confusion_matrix\n",
    "from sklearn.model_selection import GridSearchCV, StratifiedKFold\n",
    "from sklearn.ensemble import RandomForestClassifier\n",
    "\n",
    "dt_start = time.time()\n",
    "\n",
    "param_grid = {\n",
    "#   训练时长太长，为重跑快一点直接把找到的最好参数写上去了\n",
    "    'min_samples_split': [2],\n",
    "    'n_estimators' : [11],\n",
    "    'max_depth': [15],\n",
    "    'max_features': [8]\n",
    "}\n",
    "\n",
    "scorers = {\n",
    "    'accuracy_score': make_scorer(accuracy_score),\n",
    "    'average_precision_score': make_scorer(average_precision_score)\n",
    "}\n",
    "\n",
    "# Fitting Random Forest Classification to the Training set\n",
    "classifier = RandomForestClassifier(criterion = 'entropy',random_state = 42)\n",
    "\n",
    "\n",
    "def grid_search_wrapper(refit_score='accuracy_score'):\n",
    "    \"\"\"\n",
    "    fits a GridSearchCV classifier using refit_score for optimization\n",
    "    prints classifier performance metrics\n",
    "    \"\"\"\n",
    "    skf = StratifiedKFold(n_splits=5)\n",
    "    grid_search = GridSearchCV(classifier, param_grid, refit=refit_score,\n",
    "                           cv=skf, return_train_score=True,scoring=scorers, n_jobs=-1)\n",
    "    grid_search.fit(X_train, y_train)\n",
    "\n",
    "    # make the predictions\n",
    "    y_pred = grid_search.predict(X_test)\n",
    "\n",
    "    print('Best params for {}'.format(refit_score))\n",
    "    print(grid_search.best_params_)\n",
    "\n",
    "    # confusion matrix on the test data.\n",
    "    print('\\nConfusion matrix of Random Forest optimized for {} on the test data:'.format(refit_score))\n",
    "    print(pd.DataFrame(confusion_matrix(y_test, y_pred),\n",
    "                 columns=['pred_neg', 'pred_pos'], index=['neg', 'pos']))\n",
    "    print(\"f1 score: \",f1_score(y_test, y_pred))\n",
    "    print(\"AUPRC: \", average_precision_score(y_test, y_pred))\n",
    "    return grid_search\n",
    "\n",
    "grid_search_clf = grid_search_wrapper(refit_score='average_precision_score')\n",
    "\n",
    "print(\"Training time: \", time.time() - dt_start)"
   ]
  },
  {
   "cell_type": "code",
   "execution_count": 9,
   "id": "7b0d22ee-17f8-443d-8571-b2fa96286daf",
   "metadata": {},
   "outputs": [
    {
     "name": "stdout",
     "output_type": "stream",
     "text": [
      "Training time:  33.207133769989014\n"
     ]
    }
   ],
   "source": [
    "dt_start = time.time()\n",
    " \n",
    "xgb_1 = XGBClassifier(\n",
    "    learning_rate = 0.4,\n",
    "    eval_metric='mlogloss'\n",
    ")\n",
    "xgb_1.fit(X_train, y_train)\n",
    "print(\"Training time: \", time.time() - dt_start)"
   ]
  },
  {
   "cell_type": "code",
   "execution_count": 10,
   "id": "660dde39-0bb5-458d-b979-d4bac361525d",
   "metadata": {},
   "outputs": [
    {
     "name": "stdout",
     "output_type": "stream",
     "text": [
      "Prediction time:  0.0382230281829834\n",
      "f1 score:  0.8367346938775511\n",
      "AUPRC:  0.7005588671327658\n"
     ]
    }
   ],
   "source": [
    "daal_model = d4p.get_gbt_model_from_xgboost(xgb_1.get_booster())\n",
    "\n",
    "dt_start = time.time()\n",
    "\n",
    "daal_prediction = d4p.gbt_classification_prediction(nClasses = 2, resultsToEvaluate = \"computeClassLabels|computeClassProbabilities\").compute(X_test, daal_model)\n",
    "\n",
    "print(\"Prediction time: \", time.time() - dt_start)\n",
    "\n",
    "print(\"f1 score: \", f1_score(y_test, daal_prediction.prediction))\n",
    "\n",
    "print(\"AUPRC: \", average_precision_score(y_test, daal_prediction.prediction))"
   ]
  },
  {
   "cell_type": "code",
   "execution_count": null,
   "id": "342e2a23-95bd-4457-b60c-53bd2997d8b0",
   "metadata": {},
   "outputs": [],
   "source": []
  }
 ],
 "metadata": {
  "kernelspec": {
   "display_name": "modin-hdk",
   "language": "python",
   "name": "modin-hdk"
  },
  "language_info": {
   "codemirror_mode": {
    "name": "ipython",
    "version": 3
   },
   "file_extension": ".py",
   "mimetype": "text/x-python",
   "name": "python",
   "nbconvert_exporter": "python",
   "pygments_lexer": "ipython3",
   "version": "3.9.16"
  }
 },
 "nbformat": 4,
 "nbformat_minor": 5
}
